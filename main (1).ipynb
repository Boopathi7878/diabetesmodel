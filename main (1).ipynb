{
 "cells": [
  {
   "cell_type": "code",
   "execution_count": null,
   "id": "2c088e06-31d5-40e5-8d65-154b37af3599",
   "metadata": {},
   "outputs": [],
   "source": [
    "#importing libraries\n",
    "\n",
    "import pandas as pd\n",
    "import matplotlib.pyplot as plt\n",
    "import seaborn as sns \n",
    "#scikit library\n",
    "from sklearn.model_selection import train_test_split\n",
    "from sklearn.svm import SVC\n",
    "from sklearn.metrics import accuracy_score, confusion_matrix, classification_report\n",
    "from sklearn.ensemble import RandomForestClassifier #first letter shoulld be in Capitalised\n",
    "from sklearn.model_selection import train_test_split\n",
    "from sklearn.metrics import confusion_matrix,accuracy_score,classification_report,r2_score,mean_absolute_error,mean_squared_error\n",
    "from sklearn.preprocessing import StandardScaler\n",
    "import joblib\n",
    "\n",
    "print(\"Libraries are Imported !\")"
   ]
  },
  {
   "cell_type": "code",
   "execution_count": null,
   "id": "72abba78-a950-4d4f-a69c-d163caa51a38",
   "metadata": {},
   "outputs": [],
   "source": [
    "#loading dataset \n",
    "df=pd.read_csv(\"diabetes.csv\")\n",
    "print(df.head())\n",
    "print(df.info())\n",
    "print(df.isnull().sum())\n",
    "print((df==0).sum)"
   ]
  },
  {
   "cell_type": "code",
   "execution_count": null,
   "id": "b765c5e1-d809-49fe-8ab7-47da98de7927",
   "metadata": {},
   "outputs": [],
   "source": [
    "#load the dataset\n",
    "df = pd.read_csv('diabetes.csv')\n",
    "\n",
    "#columns where 0 is invalid\n",
    "cols_with_zero_invalid = ['Glucose', 'BloodPressure', 'BMI', 'Age','DiabetesPedigreeFunction','Pregnancies','SkinThickness','Insulin']\n",
    "\n",
    "#replace 0s with NaN\n",
    "df[cols_with_zero_invalid] = df[cols_with_zero_invalid].replace(0, pd.NA)\n",
    "\n",
    "# Convert to float (ensures median works properly\n",
    "\n",
    "# Fill NaNs with median values\n",
    "df.fillna(df[cols_with_zero_invalid].median().infer_objects(copy=False), inplace=True)\n",
    "\n",
    "\n",
    "# Drop unwanted columns\n",
    "#columns_to_drop = ['DiabetesPedigreeFunction', 'Pregnancies', 'SkinThickness', 'Insulin']\n",
    "#df.drop(columns=columns_to_drop, axis=1, inplace=True, errors='ignore')\n",
    "\n",
    "#final column status\n",
    "print(\"Remaining columns:\", df.columns.tolist())\n",
    "print(\"Missing values:\\n\", df.isna().sum())\n",
    "\n",
    "#split into Features(x) and Target(y)\n",
    "X = df.drop('Outcome', axis=1)\n",
    "y = df['Outcome']\n",
    "print(\"Data prepared successfully.\")\n",
    "print(\"X shape:\", X.shape)\n",
    "print(\"y shape:\", y.shape)\n"
   ]
  },
  {
   "cell_type": "code",
   "execution_count": null,
   "id": "5984ef4f-2a68-46ef-ab41-131db9b438f9",
   "metadata": {},
   "outputs": [],
   "source": [
    "\n",
    "# Split the data\n",
    "X_train, X_test, y_train, y_test = train_test_split(\n",
    "    X, y, test_size=0.2, random_state=42, stratify=y\n",
    ")\n",
    "print(\"Data Are Splitted \")\n"
   ]
  },
  {
   "cell_type": "code",
   "execution_count": null,
   "id": "b72ef596-fe1d-42aa-adb6-373a2dc531f8",
   "metadata": {},
   "outputs": [],
   "source": [
    "# Scaling of SVM For Decision Boundaries\n",
    "scaler = StandardScaler()\n",
    "X_train_scaled = scaler.fit_transform(X_train)\n",
    "X_test_scaled = scaler.transform(X_test)"
   ]
  },
  {
   "cell_type": "code",
   "execution_count": null,
   "id": "bc17f1c9-7ddb-4b48-8378-9e9ef1dc5c9c",
   "metadata": {},
   "outputs": [],
   "source": [
    "#Logic of Randome Forest\n",
    "rf_model = RandomForestClassifier(random_state=42)\n",
    "rf_model.fit(X_train, y_train)\n",
    "rf_preds = rf_model.predict(X_test)"
   ]
  },
  {
   "cell_type": "code",
   "execution_count": null,
   "id": "d40027c5-964d-416a-939e-eb5bfb4c95a8",
   "metadata": {},
   "outputs": [],
   "source": [
    "#Logic Of SVM\n",
    "svm_model = SVC(kernel='rbf', random_state=42)\n",
    "svm_model.fit(X_train_scaled, y_train)\n",
    "svm_preds = svm_model.predict(X_test_scaled)"
   ]
  },
  {
   "cell_type": "code",
   "execution_count": null,
   "id": "3916bd26-e8a3-4b58-b50c-406f55181565",
   "metadata": {},
   "outputs": [],
   "source": [
    "#accuracy testing\n",
    "print(\"Random Forest Accuracy:\", accuracy_score(y_test, rf_preds))\n",
    "print(\"SVM Accuracy:\", accuracy_score(y_test, svm_preds))"
   ]
  },
  {
   "cell_type": "code",
   "execution_count": null,
   "id": "7ca4c6cb-5f3b-4530-a4c0-a57857bde2a8",
   "metadata": {},
   "outputs": [],
   "source": [
    "#classification report\n",
    "print(\"\\nRandom Forest Classification Report:\\n\", classification_report(y_test, rf_preds))\n",
    "print(\"\\nSVM Classification Report:\\n\", classification_report(y_test, svm_preds))\n",
    "#precision - actual correct\n",
    "#recall - correctly identifiable\n",
    "#F1-Score - balance of precision and recall\n",
    "#support - no.of true instances"
   ]
  },
  {
   "cell_type": "code",
   "execution_count": null,
   "id": "2c8612a4-05bc-4c67-a234-28d8ad7ed05d",
   "metadata": {},
   "outputs": [],
   "source": [
    "#evaluation metrics\n",
    "print(\"\\nRandom Forest Regression Metrics:\")\n",
    "print(\"R2 Score:\", r2_score(y_test, rf_preds)) #variance\n",
    "print(\"MAE:\", mean_absolute_error(y_test, rf_preds)) #avg.no.of.wrong prediction\n",
    "print(\"MSE:\", mean_squared_error(y_test, rf_preds)) #larger errors\n",
    "\n",
    "print(\"\\nSVM Regression Metrics:\")\n",
    "print(\"R2 Score:\", r2_score(y_test, svm_preds))\n",
    "print(\"MAE:\", mean_absolute_error(y_test, svm_preds))\n",
    "print(\"MSE:\", mean_squared_error(y_test, svm_preds))"
   ]
  },
  {
   "cell_type": "code",
   "execution_count": null,
   "id": "78582332-1bf7-4c70-a3bb-ca33135909e2",
   "metadata": {},
   "outputs": [],
   "source": [
    "#-----------------------------------#Visualizations#-----------------------------------------\n",
    "# Confusion Matrix Plot Function\n",
    "def plot_conf_matrix(y_true, y_pred, title):\n",
    "    cm = confusion_matrix(y_true, y_pred)\n",
    "    plt.figure(figsize=(5, 4))\n",
    "    sns.heatmap(cm, annot=True, fmt='d', cmap='Blues',\n",
    "                xticklabels=['No Diabetes', 'Diabetes'],\n",
    "                yticklabels=['No Diabetes', 'Diabetes'])\n",
    "    plt.xlabel('Predicted')\n",
    "    plt.ylabel('Actual')\n",
    "    plt.title(title)\n",
    "    plt.tight_layout()\n",
    "    plt.show()\n",
    "\n",
    "\n",
    "\n",
    "# Confusion Matrices\n",
    "plot_conf_matrix(y_test, rf_preds, \"Random Forest Confusion Matrix\")\n",
    "plot_conf_matrix(y_test, svm_preds, \"SVM Confusion Matrix\")"
   ]
  },
  {
   "cell_type": "code",
   "execution_count": null,
   "id": "bbc1658c-a845-4377-b13c-00cf2bd896a8",
   "metadata": {},
   "outputs": [],
   "source": [
    "# accuracy plotting\n",
    "model_names = ['Random Forest', 'SVM']\n",
    "accuracies = [\n",
    "    accuracy_score(y_test, rf_preds),\n",
    "    accuracy_score(y_test, svm_preds)\n",
    "]\n",
    "\n",
    "plt.bar(model_names, accuracies, color=['skyblue', 'lightgreen'])\n",
    "plt.title('Model Accuracy Comparison')\n",
    "plt.ylabel('Accuracy')\n",
    "plt.ylim(0, 1)\n",
    "plt.show()"
   ]
  },
  {
   "cell_type": "code",
   "execution_count": null,
   "id": "1a616769-2da3-494b-afc4-e52e0c554618",
   "metadata": {},
   "outputs": [],
   "source": [
    "#----------------------------------------MAnual Testing---------------------------------------#\n",
    "print(\"Enter the following values to predict diabetes status:\")\n",
    "\n",
    "#user inputs\n",
    "glucose = float(input(\"Glucose Level: \"))\n",
    "bp = float(input(\"Blood Pressure: \"))\n",
    "bmi = float(input(\"BMI: \"))\n",
    "age = float(input(\"Age: \"))\n",
    "\n",
    "#single input row\n",
    "user_data = [[glucose, bp, bmi, age]]\n",
    "\n",
    "#input for SVM\n",
    "user_data_scaled = scaler.transform(user_data)\n",
    "\n",
    "# Predict with both models\n",
    "rf_result = rf_model.predict(user_data)\n",
    "svm_result = svm_model.predict(user_data_scaled)\n",
    "\n",
    "# Display predictions\n",
    "print(\"\\n--- Prediction Results ---\")\n",
    "print(\"Random Forest:\", \"Diabetic\" if rf_result[0] == 1 else \"Not Diabetic\")\n",
    "print(\"SVM           :\", \"Diabetic\" if svm_result[0] == 1 else \"Not Diabetic\")\n"
   ]
  },
  {
   "cell_type": "code",
   "execution_count": null,
   "id": "091ab089",
   "metadata": {},
   "outputs": [],
   "source": [
    "#Saving file as Pickle\n",
    "joblib.dump(svm_model, \"models/svm_model.pkl\")\n",
    "joblib.dump(rf_model, \"models/random_forest_model.pkl\")"
   ]
  }
 ],
 "metadata": {
  "kernelspec": {
   "display_name": "Python [conda env:base] *",
   "language": "python",
   "name": "conda-base-py"
  },
  "language_info": {
   "codemirror_mode": {
    "name": "ipython",
    "version": 3
   },
   "file_extension": ".py",
   "mimetype": "text/x-python",
   "name": "python",
   "nbconvert_exporter": "python",
   "pygments_lexer": "ipython3",
   "version": "3.13.5"
  }
 },
 "nbformat": 4,
 "nbformat_minor": 5
}
